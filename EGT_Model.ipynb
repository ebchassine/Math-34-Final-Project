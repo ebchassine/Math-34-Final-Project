{
 "cells": [
  {
   "cell_type": "code",
   "execution_count": 1,
   "id": "57f789e4-da5f-4222-baef-dcd3af049b5a",
   "metadata": {},
   "outputs": [],
   "source": [
    "import numpy as np \n",
    "import pandas as pd "
   ]
  },
  {
   "cell_type": "code",
   "execution_count": 2,
   "id": "5a2caf52-b1d4-4f6d-a030-f68ad6357264",
   "metadata": {},
   "outputs": [],
   "source": [
    "class Team:\n",
    "    def __init__(self, name, wins, games_played=41):\n",
    "        self.name = name\n",
    "        self.wins = wins\n",
    "        self.games_played = games_played\n",
    "        self.n = wins / games_played\n",
    "\n",
    "        self.a1, self.b1, self.c1, self.d1, self.a2, self.b2, self.c2, self.d2 = generate_ordered_constants(self.n)\n",
    "\n",
    "    def payoff_matrix(self):\n",
    "        playoff_matrix = np.array([[self.a1, self.b1],\n",
    "                                   [self.c1, self.d1]])\n",
    "        draft_matrix = np.array([[self.a2, self.b2],\n",
    "                                 [self.c2, self.d2]])\n",
    "        return playoff_matrix, draft_matrix\n",
    "\n",
    "    def expected_payoff_matrix(self):\n",
    "        playoff_matrix, draft_matrix = self.payoff_matrix()\n",
    "        return self.n * playoff_matrix + (1 - self.n) * draft_matrix\n",
    "\n",
    "    def __str__(self):\n",
    "        mat = self.expected_payoff_matrix()\n",
    "        return f\"{self.name} ({self.wins}-{self.games_played - self.wins}, n={self.n:.2f})\\nExpected Payoff Matrix:\\n\" + \\\n",
    "               f\"         Opponent\\n         T       W\\n\" + \\\n",
    "               f\"     ----------------\\n\" + \\\n",
    "               f\"T |  {mat[0,0]:.2f}   {mat[0,1]:.2f}\\n\" + \\\n",
    "               f\"W |  {mat[1,0]:.2f}   {mat[1,1]:.2f}\"\n",
    "\n",
    "    def describe_matrix(self):\n",
    "        mat = self.expected_payoff_matrix()\n",
    "        print(\"MAT OUTPUT\", mat)\n",
    "        return f\"\"\"\n",
    "--- {self.name} Game Theory Matrix (n = {self.n:.2f}) ---\n",
    "\n",
    "You = rows; Opponent = columns\n",
    "\n",
    "         Opponent\n",
    "           T       W\n",
    "       ---------------\n",
    " T |  Tank vs Tank   Tank vs Win\n",
    " W |  Win vs Tank    Win vs Win\n",
    "\n",
    "Numerical Expected Payoffs:\n",
    "Tanker vs Tanker   = {mat[0,0]:.2f}\n",
    "Tanker vs Winner   = {mat[0,1]:.2f}\n",
    "Winner vs Tanker   = {mat[1,0]:.2f}\n",
    "Winner vs Winner   = {mat[1,1]:.2f}\n",
    "\n",
    "Interpretation:\n",
    "- Row T: What happens if YOU tank, vs opponent strategy\n",
    "- Row W: What happens if YOU try to win, vs opponent strategy\n",
    "\n",
    "Use this to compare which row yields a better average result.\n",
    "\"\"\"\n",
    "\n"
   ]
  },
  {
   "cell_type": "code",
   "execution_count": 3,
   "id": "13c6cdfb-402f-4953-aa34-69d785283830",
   "metadata": {},
   "outputs": [],
   "source": [
    "def tank_GT(team: Team):\n",
    "    n = team.n\n",
    "    playoff_matrix, draft_matrix = team.payoff_matrix()\n",
    "\n",
    "    # Expected payoff matrix as weighted average\n",
    "    expected_matrix = n * playoff_matrix + (1 - n) * draft_matrix\n",
    "\n",
    "    return expected_matrix\n"
   ]
  },
  {
   "cell_type": "code",
   "execution_count": 4,
   "id": "b4e283ae-b120-47d1-a4ad-4ca07709e40d",
   "metadata": {},
   "outputs": [],
   "source": [
    "def generate_ordered_constants(n):\n",
    "    # n: team’s current win rate (between 0 and 1)\n",
    "\n",
    "    # Draft scenario (1 - n)\n",
    "    a2 = (1 - n) * 10 + np.random.uniform(0, 1)      # big reward for tanking if doing badly\n",
    "    b2 = (1 - n) * 9 + np.random.uniform(0, 1)\n",
    "    c2 = (1 - n) * 6 + np.random.uniform(0, 1)\n",
    "    d2 = (1 - n) * 2 + np.random.uniform(0, 1)\n",
    "\n",
    "    # Playoff scenario (n)\n",
    "    a1 = a2 + np.random.uniform(1, 2)  # still prefer to sneak into playoffs even when tanking\n",
    "    b1 = b2 - np.random.uniform(2, 3)  # low seed playoff worse than good draft pick\n",
    "    c1 = c2 + np.random.uniform(2, 3)  # winning when others tank: great\n",
    "    d1 = c1 + np.random.uniform(1, 2)  # both good → best outcome\n",
    "\n",
    "    # Enforce strict inequalities\n",
    "    assert a1 > a2 and b1 < b2 and c1 > c2 and d1 > d2 and c1 < d1\n",
    "\n",
    "    return a1, b1, c1, d1, a2, b2, c2, d2\n"
   ]
  },
  {
   "cell_type": "code",
   "execution_count": 5,
   "id": "6076bfb3-5668-4139-a095-093fb628e3eb",
   "metadata": {},
   "outputs": [
    {
     "name": "stdout",
     "output_type": "stream",
     "text": [
      "Lakers GT Matrix (n = 0.51):\n",
      "[[5.6544451  3.50212257]\n",
      " [4.46912099 4.73279705]]\n",
      "\n",
      "Wizards GT Matrix (n = 0.29):\n",
      "[[8.41774535 6.05181459]\n",
      " [5.77133936 3.6357592 ]]\n",
      "\n",
      "Celtics GT Matrix (n = 0.71):\n",
      "[[4.14657905 1.35039316]\n",
      " [3.43859609 4.45820059]]\n",
      "\n",
      "Pistons GT Matrix (n = 0.20):\n",
      "[[8.92210715 7.31600317]\n",
      " [5.69319539 3.39315502]]\n",
      "\n"
     ]
    }
   ],
   "source": [
    "teams = [\n",
    "    Team(\"Lakers\", 21),\n",
    "    Team(\"Wizards\", 12),\n",
    "    Team(\"Celtics\", 29),\n",
    "    Team(\"Pistons\", 8)\n",
    "]\n",
    "\n",
    "for team in teams:\n",
    "    print(f\"{team.name} GT Matrix (n = {team.n:.2f}):\")\n",
    "    print(tank_GT(team))\n",
    "    print()\n"
   ]
  },
  {
   "cell_type": "code",
   "execution_count": 6,
   "id": "fb714328-4b37-4678-9c1a-f1dec46d8647",
   "metadata": {},
   "outputs": [
    {
     "name": "stdout",
     "output_type": "stream",
     "text": [
      "Rockets (15-26, n=0.37)\n",
      "Expected Payoff Matrix:\n",
      "         Opponent\n",
      "         T       W\n",
      "     ----------------\n",
      "T |  6.94   5.60\n",
      "W |  5.47   4.58\n",
      "MAT OUTPUT [[6.94352879 5.6035104 ]\n",
      " [5.46590903 4.57815847]]\n",
      "\n",
      "--- Rockets Game Theory Matrix (n = 0.37) ---\n",
      "\n",
      "You = rows; Opponent = columns\n",
      "\n",
      "         Opponent\n",
      "           T       W\n",
      "       ---------------\n",
      " T |  Tank vs Tank   Tank vs Win\n",
      " W |  Win vs Tank    Win vs Win\n",
      "\n",
      "Numerical Expected Payoffs:\n",
      "Tanker vs Tanker   = 6.94\n",
      "Tanker vs Winner   = 5.60\n",
      "Winner vs Tanker   = 5.47\n",
      "Winner vs Winner   = 4.58\n",
      "\n",
      "Interpretation:\n",
      "- Row T: What happens if YOU tank, vs opponent strategy\n",
      "- Row W: What happens if YOU try to win, vs opponent strategy\n",
      "\n",
      "Use this to compare which row yields a better average result.\n",
      "\n"
     ]
    }
   ],
   "source": [
    "team = Team(\"Rockets\", wins=15)\n",
    "print(team)\n",
    "print(team.describe_matrix())\n"
   ]
  },
  {
   "cell_type": "code",
   "execution_count": null,
   "id": "e700baf7-183d-4045-8dd1-10f5eb084d2c",
   "metadata": {},
   "outputs": [],
   "source": []
  }
 ],
 "metadata": {
  "kernelspec": {
   "display_name": "Python 3 (ipykernel)",
   "language": "python",
   "name": "python3"
  },
  "language_info": {
   "codemirror_mode": {
    "name": "ipython",
    "version": 3
   },
   "file_extension": ".py",
   "mimetype": "text/x-python",
   "name": "python",
   "nbconvert_exporter": "python",
   "pygments_lexer": "ipython3",
   "version": "3.10.9"
  }
 },
 "nbformat": 4,
 "nbformat_minor": 5
}
