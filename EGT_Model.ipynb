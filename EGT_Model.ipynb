{
 "cells": [
  {
   "cell_type": "code",
   "execution_count": 1,
   "id": "57f789e4-da5f-4222-baef-dcd3af049b5a",
   "metadata": {},
   "outputs": [],
   "source": [
    "import numpy as np \n",
    "import pandas as pd "
   ]
  },
  {
   "cell_type": "code",
   "execution_count": 2,
   "id": "5a2caf52-b1d4-4f6d-a030-f68ad6357264",
   "metadata": {},
   "outputs": [],
   "source": [
    "class Team:\n",
    "    def __init__(self, name, wins, games_played=41):\n",
    "        self.name = name\n",
    "        self.wins = wins\n",
    "        self.games_played = games_played\n",
    "        self.n = wins / games_played\n",
    "        self.playoff_matrix = np.zeros((2,2))\n",
    "        self.draft_matrix = np.zeros((2,2))\n",
    "        \n",
    "        self.a1, self.b1, self.c1, self.d1, self.a2, self.b2, self.c2, self.d2 = generate_ordered_constants(self.n)\n",
    "\n",
    "    def payoff_matrix(self):\n",
    "        playoff_matrix = np.array([[self.a1, self.b1],\n",
    "                                   [self.c1, self.d1]])\n",
    "        draft_matrix = np.array([[self.a2, self.b2],\n",
    "                                 [self.c2, self.d2]])\n",
    "        return playoff_matrix, draft_matrix\n",
    "        \n",
    "    # def prod_matrix(self):\n",
    "    #     return self.n * self.playoff_matrix + (1 - self.n) * self.draft_matrix\n",
    "        \n",
    "\n",
    "    def expected_payoff_matrix(self):\n",
    "        self.playoff_matrix, self.draft_matrix = self.payoff_matrix()\n",
    "        return self.n * self.playoff_matrix + (1 - self.n) * self.draft_matrix\n",
    "\n",
    "    def __str__(self):\n",
    "        mat = self.expected_payoff_matrix()\n",
    "        return f\"{self.name} ({self.wins}-{self.games_played - self.wins}, n={self.n:.2f})\\nExpected Payoff Matrix:\\n\" + \\\n",
    "               f\"         Opponent\\n         T       W\\n\" + \\\n",
    "               f\"     ----------------\\n\" + \\\n",
    "               f\"T |  {mat[0,0]:.2f}   {mat[0,1]:.2f}\\n\" + \\\n",
    "               f\"W |  {mat[1,0]:.2f}   {mat[1,1]:.2f}\"\n",
    "\n",
    "    def describe_matrix(self):\n",
    "        mat = self.expected_payoff_matrix()\n",
    "        # print(prod_matrix())\n",
    "        # final = self.prod_matrix(\n",
    "        return f\"\"\"\n",
    "--- {self.name} Game Theory Matrix (n = {self.n:.2f}) ---\n",
    "\n",
    "You = rows; Opponent = columns\n",
    "\n",
    "         Opponent\n",
    "           T       W\n",
    "       ---------------\n",
    " T |  Tank vs Tank   Tank vs Win\n",
    " W |  Win vs Tank    Win vs Win\n",
    "\n",
    "Numerical Expected Payoffs:\n",
    "Tanker vs Tanker   = {mat[0,0]:.2f}\n",
    "Tanker vs Winner   = {mat[0,1]:.2f}\n",
    "Winner vs Tanker   = {mat[1,0]:.2f}\n",
    "Winner vs Winner   = {mat[1,1]:.2f}\n",
    "\n",
    "Row T: What happens if YOU tank, vs opponent strategy\n",
    "Row W: What happens if YOU try to win, vs opponent strategy\n",
    "\"\"\"\n",
    "\n"
   ]
  },
  {
   "cell_type": "code",
   "execution_count": 3,
   "id": "13c6cdfb-402f-4953-aa34-69d785283830",
   "metadata": {},
   "outputs": [],
   "source": [
    "def tank_GT(team: Team):\n",
    "    n = team.n\n",
    "    playoff_matrix, draft_matrix = team.payoff_matrix()\n",
    "\n",
    "    # Expected payoff matrix as weighted average\n",
    "    expected_matrix = n * playoff_matrix + (1 - n) * draft_matrix\n",
    "    return expected_matrix\n"
   ]
  },
  {
   "cell_type": "code",
   "execution_count": 4,
   "id": "b4e283ae-b120-47d1-a4ad-4ca07709e40d",
   "metadata": {},
   "outputs": [],
   "source": [
    "def generate_ordered_constants(n):\n",
    "    # n -  team’s current win rate (between 0 and 1)\n",
    "\n",
    "    # aim for draft matrix  (1 - n)\n",
    "    a2 = (1 - n) * 10 + np.random.uniform(0, 1)      # big reward for tanking if doing badly\n",
    "    b2 = (1 - n) * 9 + np.random.uniform(0, 1)\n",
    "    c2 = (1 - n) * 6 + np.random.uniform(0, 1)\n",
    "    d2 = (1 - n) * 2 + np.random.uniform(0, 1)\n",
    "\n",
    "    # aim for playoff matrix (n)\n",
    "    \"\"\"\n",
    "    a1 = a2 + np.random.uniform(1, 2)  # prefer to get into playoffs even when tanking\n",
    "    b1 = b2 - np.random.uniform(2, 3)  # low seed playoff worse than good draft pick\n",
    "    c1 = c2 + np.random.uniform(2, 3)  # winning when others tank - great\n",
    "    d1 = c1 + np.random.uniform(1, 2)  # both good - best outcome\n",
    "    \"\"\"\n",
    "    a1, a2 = -1, 1\n",
    "    b1, b2  = 0, 2 \n",
    "    c1, c2 = 2, 0 \n",
    "    d1, d2 = 1, -1\n",
    "    # assert a1 > a2 and b1 < b2 and c1 > c2 and d1 > d2 and c1 < d1\n",
    "\n",
    "    return a1, b1, c1, d1, a2, b2, c2, d2\n"
   ]
  },
  {
   "cell_type": "code",
   "execution_count": 5,
   "id": "6076bfb3-5668-4139-a095-093fb628e3eb",
   "metadata": {},
   "outputs": [
    {
     "name": "stdout",
     "output_type": "stream",
     "text": [
      "Lakers GT Matrix (n = 0.51):\n",
      "[[-0.02439024  0.97560976]\n",
      " [ 1.02439024  0.02439024]]\n",
      "\n",
      "Wizards GT Matrix (n = 0.29):\n",
      "[[ 0.41463415  1.41463415]\n",
      " [ 0.58536585 -0.41463415]]\n",
      "\n",
      "Celtics GT Matrix (n = 0.71):\n",
      "[[-0.41463415  0.58536585]\n",
      " [ 1.41463415  0.41463415]]\n",
      "\n",
      "Pistons GT Matrix (n = 0.20):\n",
      "[[ 0.6097561  1.6097561]\n",
      " [ 0.3902439 -0.6097561]]\n",
      "\n"
     ]
    }
   ],
   "source": [
    "teams = [\n",
    "    Team(\"Lakers\", 21),\n",
    "    Team(\"Wizards\", 12),\n",
    "    Team(\"Celtics\", 29),\n",
    "    Team(\"Pistons\", 8)\n",
    "]\n",
    "\n",
    "for team in teams:\n",
    "    print(f\"{team.name} GT Matrix (n = {team.n:.2f}):\")\n",
    "    print(tank_GT(team))\n",
    "    print()\n"
   ]
  },
  {
   "cell_type": "code",
   "execution_count": 6,
   "id": "fb714328-4b37-4678-9c1a-f1dec46d8647",
   "metadata": {},
   "outputs": [
    {
     "name": "stdout",
     "output_type": "stream",
     "text": [
      "Rockets (41-0, n=1.00)\n",
      "Expected Payoff Matrix:\n",
      "         Opponent\n",
      "         T       W\n",
      "     ----------------\n",
      "T |  -1.00   0.00\n",
      "W |  2.00   1.00\n",
      "\n",
      "--- Rockets Game Theory Matrix (n = 1.00) ---\n",
      "\n",
      "You = rows; Opponent = columns\n",
      "\n",
      "         Opponent\n",
      "           T       W\n",
      "       ---------------\n",
      " T |  Tank vs Tank   Tank vs Win\n",
      " W |  Win vs Tank    Win vs Win\n",
      "\n",
      "Numerical Expected Payoffs:\n",
      "Tanker vs Tanker   = -1.00\n",
      "Tanker vs Winner   = 0.00\n",
      "Winner vs Tanker   = 2.00\n",
      "Winner vs Winner   = 1.00\n",
      "\n",
      "Row T: What happens if YOU tank, vs opponent strategy\n",
      "Row W: What happens if YOU try to win, vs opponent strategy\n",
      "\n"
     ]
    }
   ],
   "source": [
    "team = Team(\"Rockets\", wins=41)\n",
    "print(team)\n",
    "print(team.describe_matrix())\n"
   ]
  },
  {
   "cell_type": "code",
   "execution_count": null,
   "id": "e700baf7-183d-4045-8dd1-10f5eb084d2c",
   "metadata": {},
   "outputs": [],
   "source": []
  },
  {
   "cell_type": "code",
   "execution_count": null,
   "id": "dd21fbe7-e5bc-4be1-b086-eae0339318f4",
   "metadata": {},
   "outputs": [],
   "source": []
  }
 ],
 "metadata": {
  "kernelspec": {
   "display_name": "Python 3 (ipykernel)",
   "language": "python",
   "name": "python3"
  },
  "language_info": {
   "codemirror_mode": {
    "name": "ipython",
    "version": 3
   },
   "file_extension": ".py",
   "mimetype": "text/x-python",
   "name": "python",
   "nbconvert_exporter": "python",
   "pygments_lexer": "ipython3",
   "version": "3.10.9"
  }
 },
 "nbformat": 4,
 "nbformat_minor": 5
}
